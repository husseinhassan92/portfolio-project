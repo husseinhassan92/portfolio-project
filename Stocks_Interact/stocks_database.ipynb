{
 "cells": [
  {
   "cell_type": "code",
   "execution_count": 1,
   "id": "05963a6e",
   "metadata": {},
   "outputs": [],
   "source": [
    "import pandas as pd"
   ]
  },
  {
   "cell_type": "code",
   "execution_count": 3,
   "id": "7b550e4a",
   "metadata": {},
   "outputs": [],
   "source": [
    "df = pd.read_csv('stocks.csv')"
   ]
  },
  {
   "cell_type": "code",
   "execution_count": 20,
   "id": "0d2c995e",
   "metadata": {
    "scrolled": true
   },
   "outputs": [
    {
     "name": "stdout",
     "output_type": "stream",
     "text": [
      "<class 'pandas.core.frame.DataFrame'>\n",
      "RangeIndex: 7408 entries, 0 to 7407\n",
      "Data columns (total 11 columns):\n",
      " #   Column      Non-Null Count  Dtype  \n",
      "---  ------      --------------  -----  \n",
      " 0   Symbol      7408 non-null   object \n",
      " 1   Name        7408 non-null   object \n",
      " 2   Last Sale   7408 non-null   object \n",
      " 3   Net Change  7408 non-null   float64\n",
      " 4   % Change    7404 non-null   object \n",
      " 5   Market Cap  6976 non-null   float64\n",
      " 6   Country     7063 non-null   object \n",
      " 7   IPO Year    4255 non-null   float64\n",
      " 8   Volume      7408 non-null   int64  \n",
      " 9   Sector      6714 non-null   object \n",
      " 10  Industry    6714 non-null   object \n",
      "dtypes: float64(3), int64(1), object(7)\n",
      "memory usage: 636.8+ KB\n"
     ]
    }
   ],
   "source": [
    "df.info()"
   ]
  },
  {
   "cell_type": "code",
   "execution_count": 21,
   "id": "d693b9c5",
   "metadata": {
    "scrolled": true
   },
   "outputs": [
    {
     "data": {
      "text/html": [
       "<div>\n",
       "<style scoped>\n",
       "    .dataframe tbody tr th:only-of-type {\n",
       "        vertical-align: middle;\n",
       "    }\n",
       "\n",
       "    .dataframe tbody tr th {\n",
       "        vertical-align: top;\n",
       "    }\n",
       "\n",
       "    .dataframe thead th {\n",
       "        text-align: right;\n",
       "    }\n",
       "</style>\n",
       "<table border=\"1\" class=\"dataframe\">\n",
       "  <thead>\n",
       "    <tr style=\"text-align: right;\">\n",
       "      <th></th>\n",
       "      <th>Symbol</th>\n",
       "      <th>Name</th>\n",
       "      <th>Last Sale</th>\n",
       "      <th>Net Change</th>\n",
       "      <th>% Change</th>\n",
       "      <th>Market Cap</th>\n",
       "      <th>Country</th>\n",
       "      <th>IPO Year</th>\n",
       "      <th>Volume</th>\n",
       "      <th>Sector</th>\n",
       "      <th>Industry</th>\n",
       "    </tr>\n",
       "  </thead>\n",
       "  <tbody>\n",
       "    <tr>\n",
       "      <th>0</th>\n",
       "      <td>A</td>\n",
       "      <td>Agilent Technologies Inc. Common Stock</td>\n",
       "      <td>$108.46</td>\n",
       "      <td>3.99</td>\n",
       "      <td>3.819%</td>\n",
       "      <td>3.173402e+10</td>\n",
       "      <td>United States</td>\n",
       "      <td>1999.0</td>\n",
       "      <td>1285075</td>\n",
       "      <td>Industrials</td>\n",
       "      <td>Biotechnology: Laboratory Analytical Instruments</td>\n",
       "    </tr>\n",
       "    <tr>\n",
       "      <th>1</th>\n",
       "      <td>AA</td>\n",
       "      <td>Alcoa Corporation Common Stock</td>\n",
       "      <td>$26.31</td>\n",
       "      <td>0.24</td>\n",
       "      <td>0.921%</td>\n",
       "      <td>4.695596e+09</td>\n",
       "      <td>United States</td>\n",
       "      <td>2016.0</td>\n",
       "      <td>3063173</td>\n",
       "      <td>Industrials</td>\n",
       "      <td>Aluminum</td>\n",
       "    </tr>\n",
       "    <tr>\n",
       "      <th>2</th>\n",
       "      <td>AAC</td>\n",
       "      <td>Ares Acquisition Corporation Class A Ordinary ...</td>\n",
       "      <td>$10.77</td>\n",
       "      <td>0.00</td>\n",
       "      <td>0.00%</td>\n",
       "      <td>7.604079e+08</td>\n",
       "      <td>NaN</td>\n",
       "      <td>2021.0</td>\n",
       "      <td>11470</td>\n",
       "      <td>Industrials</td>\n",
       "      <td>Metal Fabrications</td>\n",
       "    </tr>\n",
       "    <tr>\n",
       "      <th>3</th>\n",
       "      <td>AACG</td>\n",
       "      <td>ATA Creativity Global American Depositary Shares</td>\n",
       "      <td>$0.91</td>\n",
       "      <td>-0.04</td>\n",
       "      <td>-4.211%</td>\n",
       "      <td>2.877618e+07</td>\n",
       "      <td>China</td>\n",
       "      <td>2008.0</td>\n",
       "      <td>4041</td>\n",
       "      <td>Real Estate</td>\n",
       "      <td>Other Consumer Services</td>\n",
       "    </tr>\n",
       "    <tr>\n",
       "      <th>4</th>\n",
       "      <td>AACI</td>\n",
       "      <td>Armada Acquisition Corp. I Common Stock</td>\n",
       "      <td>$10.70</td>\n",
       "      <td>0.00</td>\n",
       "      <td>0.00%</td>\n",
       "      <td>0.000000e+00</td>\n",
       "      <td>United States</td>\n",
       "      <td>2021.0</td>\n",
       "      <td>114036</td>\n",
       "      <td>Finance</td>\n",
       "      <td>Blank Checks</td>\n",
       "    </tr>\n",
       "  </tbody>\n",
       "</table>\n",
       "</div>"
      ],
      "text/plain": [
       "  Symbol                                               Name Last Sale  \\\n",
       "0      A             Agilent Technologies Inc. Common Stock   $108.46   \n",
       "1     AA                    Alcoa Corporation Common Stock     $26.31   \n",
       "2    AAC  Ares Acquisition Corporation Class A Ordinary ...    $10.77   \n",
       "3   AACG   ATA Creativity Global American Depositary Shares     $0.91   \n",
       "4   AACI            Armada Acquisition Corp. I Common Stock    $10.70   \n",
       "\n",
       "   Net Change % Change    Market Cap        Country  IPO Year   Volume  \\\n",
       "0        3.99   3.819%  3.173402e+10  United States    1999.0  1285075   \n",
       "1        0.24   0.921%  4.695596e+09  United States    2016.0  3063173   \n",
       "2        0.00    0.00%  7.604079e+08            NaN    2021.0    11470   \n",
       "3       -0.04  -4.211%  2.877618e+07          China    2008.0     4041   \n",
       "4        0.00    0.00%  0.000000e+00  United States    2021.0   114036   \n",
       "\n",
       "        Sector                                          Industry  \n",
       "0  Industrials  Biotechnology: Laboratory Analytical Instruments  \n",
       "1  Industrials                                          Aluminum  \n",
       "2  Industrials                                Metal Fabrications  \n",
       "3  Real Estate                           Other Consumer Services  \n",
       "4      Finance                                      Blank Checks  "
      ]
     },
     "execution_count": 21,
     "metadata": {},
     "output_type": "execute_result"
    }
   ],
   "source": [
    "df.head()"
   ]
  },
  {
   "cell_type": "code",
   "execution_count": null,
   "id": "fa396cf9",
   "metadata": {},
   "outputs": [],
   "source": [
    "import pandas as pd\n",
    "from application import db\n",
    "df = pd.read_csv('stocks.csv')\n",
    "df.iloc[4538, 0] = 'NANO'\n",
    "db.create_all()\n",
    "from application.database import User, Wallet, Stock\n",
    "for index, row in df.iterrows():\n",
    "    stock = Stock(symbol=row['Symbol'], name=row['Name'], last_sale=row['Last Sale'], net_change=row['Net Change'], market_cap=row['Market Cap'], ipo_year=row['IPO Year'], volume=row['Volume'], country=row['Country'], sector=row['Sector'], industry=row['Industry'])\n",
    "    db.session.add(stock)\n",
    "\n",
    "db.session.commit()\n"
   ]
  },
  {
   "cell_type": "code",
   "execution_count": 33,
   "id": "67b914e0",
   "metadata": {},
   "outputs": [
    {
     "name": "stdout",
     "output_type": "stream",
     "text": [
      "<class 'pandas.core.frame.DataFrame'>\n",
      "RangeIndex: 7408 entries, 0 to 7407\n",
      "Data columns (total 11 columns):\n",
      " #   Column      Non-Null Count  Dtype  \n",
      "---  ------      --------------  -----  \n",
      " 0   Symbol      7408 non-null   object \n",
      " 1   Name        7408 non-null   object \n",
      " 2   Last Sale   7408 non-null   object \n",
      " 3   Net Change  7408 non-null   float64\n",
      " 4   % Change    7404 non-null   object \n",
      " 5   Market Cap  6976 non-null   float64\n",
      " 6   Country     7063 non-null   object \n",
      " 7   IPO Year    4255 non-null   float64\n",
      " 8   Volume      7408 non-null   int64  \n",
      " 9   Sector      6714 non-null   object \n",
      " 10  Industry    6714 non-null   object \n",
      "dtypes: float64(3), int64(1), object(7)\n",
      "memory usage: 636.8+ KB\n"
     ]
    }
   ],
   "source": [
    "df.info()"
   ]
  },
  {
   "cell_type": "code",
   "execution_count": 35,
   "id": "bc63a420",
   "metadata": {},
   "outputs": [],
   "source": [
    "df.drop('% Change', axis = 1)\n",
    "df['Market Cap'].fillna(0,inplace=True)\n",
    "df['Country'].fillna('Global',inplace=True)\n",
    "df['IPO Year'].fillna(0,inplace=True)\n",
    "df['Sector'].fillna('Multi',inplace=True)\n",
    "df['Industry'].fillna('Multi',inplace=True)"
   ]
  },
  {
   "cell_type": "code",
   "execution_count": 36,
   "id": "39419d12",
   "metadata": {},
   "outputs": [
    {
     "name": "stdout",
     "output_type": "stream",
     "text": [
      "<class 'pandas.core.frame.DataFrame'>\n",
      "RangeIndex: 7408 entries, 0 to 7407\n",
      "Data columns (total 11 columns):\n",
      " #   Column      Non-Null Count  Dtype  \n",
      "---  ------      --------------  -----  \n",
      " 0   Symbol      7408 non-null   object \n",
      " 1   Name        7408 non-null   object \n",
      " 2   Last Sale   7408 non-null   object \n",
      " 3   Net Change  7408 non-null   float64\n",
      " 4   % Change    7404 non-null   object \n",
      " 5   Market Cap  7408 non-null   float64\n",
      " 6   Country     7408 non-null   object \n",
      " 7   IPO Year    7408 non-null   float64\n",
      " 8   Volume      7408 non-null   int64  \n",
      " 9   Sector      7408 non-null   object \n",
      " 10  Industry    7408 non-null   object \n",
      "dtypes: float64(3), int64(1), object(7)\n",
      "memory usage: 636.8+ KB\n"
     ]
    }
   ],
   "source": [
    "df.info()"
   ]
  },
  {
   "cell_type": "code",
   "execution_count": null,
   "id": "dd82c956",
   "metadata": {},
   "outputs": [],
   "source": []
  }
 ],
 "metadata": {
  "kernelspec": {
   "display_name": "Python 3 (ipykernel)",
   "language": "python",
   "name": "python3"
  },
  "language_info": {
   "codemirror_mode": {
    "name": "ipython",
    "version": 3
   },
   "file_extension": ".py",
   "mimetype": "text/x-python",
   "name": "python",
   "nbconvert_exporter": "python",
   "pygments_lexer": "ipython3",
   "version": "3.10.9"
  }
 },
 "nbformat": 4,
 "nbformat_minor": 5
}
