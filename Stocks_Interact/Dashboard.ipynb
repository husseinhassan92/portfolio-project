{
 "cells": [
  {
   "cell_type": "code",
   "execution_count": 50,
   "id": "0ec69822",
   "metadata": {},
   "outputs": [
    {
     "name": "stdout",
     "output_type": "stream",
     "text": [
      "The autoreload extension is already loaded. To reload it, use:\n",
      "  %reload_ext autoreload\n"
     ]
    }
   ],
   "source": [
    "from config import settings\n",
    "import requests\n",
    "import pandas as pd\n",
    "from models.data import AlphaVantageAPI\n",
    "from dash import Dash, html, dcc, callback, Output, Input\n",
    "import plotly.express as px\n",
    "%load_ext autoreload\n",
    "%autoreload 2"
   ]
  },
  {
   "cell_type": "code",
   "execution_count": 51,
   "id": "25168acb",
   "metadata": {},
   "outputs": [],
   "source": [
    "av = AlphaVantageAPI()"
   ]
  },
  {
   "cell_type": "code",
   "execution_count": 52,
   "id": "53d107e2",
   "metadata": {},
   "outputs": [],
   "source": [
    "app = Dash(__name__)"
   ]
  },
  {
   "cell_type": "code",
   "execution_count": 53,
   "id": "fcdde20f",
   "metadata": {},
   "outputs": [],
   "source": [
    "app.layout = html.Div([\n",
    "    html.H1(children='STOCKS INTERACT', style={'textAlign':'center'}),\n",
    "    html.H2(children='STOCKS', style={'textAlign':'left'}),\n",
    "    dcc.Input(id = 'stock'),\n",
    "    dcc.Dropdown(id='dropdown-selection'),\n",
    "    html.Div(id='container'),\n",
    "    html.Div(id='container_1')\n",
    "    \n",
    "])"
   ]
  },
  {
   "cell_type": "code",
   "execution_count": 54,
   "id": "e5d23098",
   "metadata": {},
   "outputs": [],
   "source": [
    "@callback(\n",
    "    Output('dropdown-selection', 'options'),\n",
    "    Input('stock', 'value')\n",
    ")\n",
    "def search(value):\n",
    "    data = av.get_symbol(value)\n",
    "    search=list(data.keys())\n",
    "    return search"
   ]
  },
  {
   "cell_type": "code",
   "execution_count": null,
   "id": "4e4954d4",
   "metadata": {},
   "outputs": [],
   "source": []
  },
  {
   "cell_type": "code",
   "execution_count": 55,
   "id": "41e49acc",
   "metadata": {},
   "outputs": [],
   "source": [
    "@callback(\n",
    "    Output('container', 'children'),\n",
    "    Input('dropdown-selection', 'value')\n",
    ")\n",
    "def name(value):\n",
    "    overview = get_overview(value)\n",
    "    return overview.get('Name')\n",
    "    "
   ]
  },
  {
   "cell_type": "code",
   "execution_count": 56,
   "id": "a2b9a561",
   "metadata": {},
   "outputs": [],
   "source": [
    "@callback(\n",
    "    Output('container_1', 'children'),\n",
    "    Input('dropdown-selection', 'value')\n",
    ")\n",
    "def description(value):\n",
    "    overview = get_overview(value)\n",
    "    return overview.get('Description')"
   ]
  },
  {
   "cell_type": "code",
   "execution_count": null,
   "id": "e8fcb29b",
   "metadata": {},
   "outputs": [],
   "source": []
  },
  {
   "cell_type": "code",
   "execution_count": 57,
   "id": "36c5f583",
   "metadata": {},
   "outputs": [
    {
     "name": "stdout",
     "output_type": "stream",
     "text": [
      "Dash app running on http://127.0.0.1:8050/\n"
     ]
    },
    {
     "name": "stderr",
     "output_type": "stream",
     "text": [
      "[2023-10-28 12:08:15,298] ERROR in app: Exception on /_dash-update-component [POST]\n",
      "Traceback (most recent call last):\n",
      "  File \"C:\\ProgramData\\anaconda3\\lib\\site-packages\\flask\\app.py\", line 2525, in wsgi_app\n",
      "    response = self.full_dispatch_request()\n",
      "  File \"C:\\ProgramData\\anaconda3\\lib\\site-packages\\flask\\app.py\", line 1822, in full_dispatch_request\n",
      "    rv = self.handle_user_exception(e)\n",
      "  File \"C:\\ProgramData\\anaconda3\\lib\\site-packages\\flask\\app.py\", line 1820, in full_dispatch_request\n",
      "    rv = self.dispatch_request()\n",
      "  File \"C:\\ProgramData\\anaconda3\\lib\\site-packages\\flask\\app.py\", line 1796, in dispatch_request\n",
      "    return self.ensure_sync(self.view_functions[rule.endpoint])(**view_args)\n",
      "  File \"C:\\Users\\husse\\AppData\\Roaming\\Python\\Python310\\site-packages\\dash\\dash.py\", line 1310, in dispatch\n",
      "    ctx.run(\n",
      "  File \"C:\\Users\\husse\\AppData\\Roaming\\Python\\Python310\\site-packages\\dash\\_callback.py\", line 442, in add_context\n",
      "    output_value = func(*func_args, **func_kwargs)  # %% callback invoked %%\n",
      "  File \"C:\\Users\\husse\\AppData\\Local\\Temp\\ipykernel_7004\\1006990554.py\", line 6, in name\n",
      "    overview = get_overview(value)\n",
      "NameError: name 'get_overview' is not defined\n",
      "[2023-10-28 12:08:15,305] ERROR in app: Exception on /_dash-update-component [POST]\n",
      "Traceback (most recent call last):\n",
      "  File \"C:\\ProgramData\\anaconda3\\lib\\site-packages\\flask\\app.py\", line 2525, in wsgi_app\n",
      "    response = self.full_dispatch_request()\n",
      "  File \"C:\\ProgramData\\anaconda3\\lib\\site-packages\\flask\\app.py\", line 1822, in full_dispatch_request\n",
      "    rv = self.handle_user_exception(e)\n",
      "  File \"C:\\ProgramData\\anaconda3\\lib\\site-packages\\flask\\app.py\", line 1820, in full_dispatch_request\n",
      "    rv = self.dispatch_request()\n",
      "  File \"C:\\ProgramData\\anaconda3\\lib\\site-packages\\flask\\app.py\", line 1796, in dispatch_request\n",
      "    return self.ensure_sync(self.view_functions[rule.endpoint])(**view_args)\n",
      "  File \"C:\\Users\\husse\\AppData\\Roaming\\Python\\Python310\\site-packages\\dash\\dash.py\", line 1310, in dispatch\n",
      "    ctx.run(\n",
      "  File \"C:\\Users\\husse\\AppData\\Roaming\\Python\\Python310\\site-packages\\dash\\_callback.py\", line 442, in add_context\n",
      "    output_value = func(*func_args, **func_kwargs)  # %% callback invoked %%\n",
      "  File \"C:\\Users\\husse\\AppData\\Local\\Temp\\ipykernel_7004\\841454997.py\", line 6, in description\n",
      "    overview = get_overview(value)\n",
      "NameError: name 'get_overview' is not defined\n",
      "[2023-10-28 12:08:15,917] ERROR in app: Exception on /_dash-update-component [POST]\n",
      "Traceback (most recent call last):\n",
      "  File \"C:\\ProgramData\\anaconda3\\lib\\site-packages\\flask\\app.py\", line 2525, in wsgi_app\n",
      "    response = self.full_dispatch_request()\n",
      "  File \"C:\\ProgramData\\anaconda3\\lib\\site-packages\\flask\\app.py\", line 1822, in full_dispatch_request\n",
      "    rv = self.handle_user_exception(e)\n",
      "  File \"C:\\ProgramData\\anaconda3\\lib\\site-packages\\flask\\app.py\", line 1820, in full_dispatch_request\n",
      "    rv = self.dispatch_request()\n",
      "  File \"C:\\ProgramData\\anaconda3\\lib\\site-packages\\flask\\app.py\", line 1796, in dispatch_request\n",
      "    return self.ensure_sync(self.view_functions[rule.endpoint])(**view_args)\n",
      "  File \"C:\\Users\\husse\\AppData\\Roaming\\Python\\Python310\\site-packages\\dash\\dash.py\", line 1310, in dispatch\n",
      "    ctx.run(\n",
      "  File \"C:\\Users\\husse\\AppData\\Roaming\\Python\\Python310\\site-packages\\dash\\_callback.py\", line 442, in add_context\n",
      "    output_value = func(*func_args, **func_kwargs)  # %% callback invoked %%\n",
      "  File \"C:\\Users\\husse\\AppData\\Local\\Temp\\ipykernel_7004\\3218592721.py\", line 6, in search\n",
      "    data = av.get_symbol(value)\n",
      "  File \"C:\\Users\\husse\\Workspace\\portfolio-project\\Stocks_Interact\\models\\data.py\", line 41, in get_symbol\n",
      "    bestMatches[i].get('2. name')))] = bestMatches[i].get('1. symbol')\n",
      "TypeError: list indices must be integers or slices, not dict\n",
      "[2023-10-28 12:08:18,959] ERROR in app: Exception on /_dash-update-component [POST]\n",
      "Traceback (most recent call last):\n",
      "  File \"C:\\ProgramData\\anaconda3\\lib\\site-packages\\flask\\app.py\", line 2525, in wsgi_app\n",
      "    response = self.full_dispatch_request()\n",
      "  File \"C:\\ProgramData\\anaconda3\\lib\\site-packages\\flask\\app.py\", line 1822, in full_dispatch_request\n",
      "    rv = self.handle_user_exception(e)\n",
      "  File \"C:\\ProgramData\\anaconda3\\lib\\site-packages\\flask\\app.py\", line 1820, in full_dispatch_request\n",
      "    rv = self.dispatch_request()\n",
      "  File \"C:\\ProgramData\\anaconda3\\lib\\site-packages\\flask\\app.py\", line 1796, in dispatch_request\n",
      "    return self.ensure_sync(self.view_functions[rule.endpoint])(**view_args)\n",
      "  File \"C:\\Users\\husse\\AppData\\Roaming\\Python\\Python310\\site-packages\\dash\\dash.py\", line 1310, in dispatch\n",
      "    ctx.run(\n",
      "  File \"C:\\Users\\husse\\AppData\\Roaming\\Python\\Python310\\site-packages\\dash\\_callback.py\", line 442, in add_context\n",
      "    output_value = func(*func_args, **func_kwargs)  # %% callback invoked %%\n",
      "  File \"C:\\Users\\husse\\AppData\\Local\\Temp\\ipykernel_7004\\3218592721.py\", line 6, in search\n",
      "    data = av.get_symbol(value)\n",
      "  File \"C:\\Users\\husse\\Workspace\\portfolio-project\\Stocks_Interact\\models\\data.py\", line 41, in get_symbol\n",
      "    bestMatches[i].get('2. name')))] = bestMatches[i].get('1. symbol')\n",
      "TypeError: list indices must be integers or slices, not dict\n",
      "[2023-10-28 12:08:19,131] ERROR in app: Exception on /_dash-update-component [POST]\n",
      "Traceback (most recent call last):\n",
      "  File \"C:\\ProgramData\\anaconda3\\lib\\site-packages\\flask\\app.py\", line 2525, in wsgi_app\n",
      "    response = self.full_dispatch_request()\n",
      "  File \"C:\\ProgramData\\anaconda3\\lib\\site-packages\\flask\\app.py\", line 1822, in full_dispatch_request\n",
      "    rv = self.handle_user_exception(e)\n",
      "  File \"C:\\ProgramData\\anaconda3\\lib\\site-packages\\flask\\app.py\", line 1820, in full_dispatch_request\n",
      "    rv = self.dispatch_request()\n",
      "  File \"C:\\ProgramData\\anaconda3\\lib\\site-packages\\flask\\app.py\", line 1796, in dispatch_request\n",
      "    return self.ensure_sync(self.view_functions[rule.endpoint])(**view_args)\n",
      "  File \"C:\\Users\\husse\\AppData\\Roaming\\Python\\Python310\\site-packages\\dash\\dash.py\", line 1310, in dispatch\n",
      "    ctx.run(\n",
      "  File \"C:\\Users\\husse\\AppData\\Roaming\\Python\\Python310\\site-packages\\dash\\_callback.py\", line 442, in add_context\n",
      "    output_value = func(*func_args, **func_kwargs)  # %% callback invoked %%\n",
      "  File \"C:\\Users\\husse\\AppData\\Local\\Temp\\ipykernel_7004\\3218592721.py\", line 6, in search\n",
      "    data = av.get_symbol(value)\n",
      "  File \"C:\\Users\\husse\\Workspace\\portfolio-project\\Stocks_Interact\\models\\data.py\", line 41, in get_symbol\n",
      "    bestMatches[i].get('2. name')))] = bestMatches[i].get('1. symbol')\n",
      "TypeError: list indices must be integers or slices, not dict\n",
      "[2023-10-28 12:08:19,296] ERROR in app: Exception on /_dash-update-component [POST]\n",
      "Traceback (most recent call last):\n",
      "  File \"C:\\ProgramData\\anaconda3\\lib\\site-packages\\flask\\app.py\", line 2525, in wsgi_app\n",
      "    response = self.full_dispatch_request()\n",
      "  File \"C:\\ProgramData\\anaconda3\\lib\\site-packages\\flask\\app.py\", line 1822, in full_dispatch_request\n",
      "    rv = self.handle_user_exception(e)\n",
      "  File \"C:\\ProgramData\\anaconda3\\lib\\site-packages\\flask\\app.py\", line 1820, in full_dispatch_request\n",
      "    rv = self.dispatch_request()\n",
      "  File \"C:\\ProgramData\\anaconda3\\lib\\site-packages\\flask\\app.py\", line 1796, in dispatch_request\n",
      "    return self.ensure_sync(self.view_functions[rule.endpoint])(**view_args)\n",
      "  File \"C:\\Users\\husse\\AppData\\Roaming\\Python\\Python310\\site-packages\\dash\\dash.py\", line 1310, in dispatch\n",
      "    ctx.run(\n",
      "  File \"C:\\Users\\husse\\AppData\\Roaming\\Python\\Python310\\site-packages\\dash\\_callback.py\", line 442, in add_context\n",
      "    output_value = func(*func_args, **func_kwargs)  # %% callback invoked %%\n",
      "  File \"C:\\Users\\husse\\AppData\\Local\\Temp\\ipykernel_7004\\3218592721.py\", line 6, in search\n",
      "    data = av.get_symbol(value)\n",
      "  File \"C:\\Users\\husse\\Workspace\\portfolio-project\\Stocks_Interact\\models\\data.py\", line 41, in get_symbol\n",
      "    bestMatches[i].get('2. name')))] = bestMatches[i].get('1. symbol')\n",
      "TypeError: list indices must be integers or slices, not dict\n",
      "[2023-10-28 12:08:19,759] ERROR in app: Exception on /_dash-update-component [POST]\n",
      "Traceback (most recent call last):\n",
      "  File \"C:\\ProgramData\\anaconda3\\lib\\site-packages\\flask\\app.py\", line 2525, in wsgi_app\n",
      "    response = self.full_dispatch_request()\n",
      "  File \"C:\\ProgramData\\anaconda3\\lib\\site-packages\\flask\\app.py\", line 1822, in full_dispatch_request\n",
      "    rv = self.handle_user_exception(e)\n",
      "  File \"C:\\ProgramData\\anaconda3\\lib\\site-packages\\flask\\app.py\", line 1820, in full_dispatch_request\n",
      "    rv = self.dispatch_request()\n",
      "  File \"C:\\ProgramData\\anaconda3\\lib\\site-packages\\flask\\app.py\", line 1796, in dispatch_request\n",
      "    return self.ensure_sync(self.view_functions[rule.endpoint])(**view_args)\n",
      "  File \"C:\\Users\\husse\\AppData\\Roaming\\Python\\Python310\\site-packages\\dash\\dash.py\", line 1310, in dispatch\n",
      "    ctx.run(\n",
      "  File \"C:\\Users\\husse\\AppData\\Roaming\\Python\\Python310\\site-packages\\dash\\_callback.py\", line 442, in add_context\n",
      "    output_value = func(*func_args, **func_kwargs)  # %% callback invoked %%\n",
      "  File \"C:\\Users\\husse\\AppData\\Local\\Temp\\ipykernel_7004\\3218592721.py\", line 6, in search\n",
      "    data = av.get_symbol(value)\n",
      "  File \"C:\\Users\\husse\\Workspace\\portfolio-project\\Stocks_Interact\\models\\data.py\", line 41, in get_symbol\n",
      "    bestMatches[i].get('2. name')))] = bestMatches[i].get('1. symbol')\n",
      "TypeError: list indices must be integers or slices, not dict\n"
     ]
    }
   ],
   "source": [
    "app.run(jupyter_mode=\"external\")"
   ]
  },
  {
   "cell_type": "code",
   "execution_count": null,
   "id": "1df784b4",
   "metadata": {},
   "outputs": [],
   "source": []
  },
  {
   "cell_type": "code",
   "execution_count": null,
   "id": "6f04eecf",
   "metadata": {},
   "outputs": [],
   "source": []
  },
  {
   "cell_type": "code",
   "execution_count": null,
   "id": "04d9cc82",
   "metadata": {},
   "outputs": [],
   "source": []
  },
  {
   "cell_type": "code",
   "execution_count": null,
   "id": "3e7fcae8",
   "metadata": {},
   "outputs": [],
   "source": []
  }
 ],
 "metadata": {
  "kernelspec": {
   "display_name": "Python 3 (ipykernel)",
   "language": "python",
   "name": "python3"
  },
  "language_info": {
   "codemirror_mode": {
    "name": "ipython",
    "version": 3
   },
   "file_extension": ".py",
   "mimetype": "text/x-python",
   "name": "python",
   "nbconvert_exporter": "python",
   "pygments_lexer": "ipython3",
   "version": "3.10.9"
  }
 },
 "nbformat": 4,
 "nbformat_minor": 5
}
