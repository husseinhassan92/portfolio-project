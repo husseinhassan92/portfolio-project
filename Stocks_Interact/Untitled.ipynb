{
 "cells": [
  {
   "cell_type": "code",
   "execution_count": 7,
   "id": "93974c95",
   "metadata": {},
   "outputs": [],
   "source": [
    "from config import settings"
   ]
  },
  {
   "cell_type": "code",
   "execution_count": 8,
   "id": "93b8c9bc",
   "metadata": {},
   "outputs": [
    {
     "data": {
      "text/plain": [
       "'LPH89PQJ4AIJVL3M'"
      ]
     },
     "execution_count": 8,
     "metadata": {},
     "output_type": "execute_result"
    }
   ],
   "source": [
    "settings.api_key"
   ]
  },
  {
   "cell_type": "code",
   "execution_count": 9,
   "id": "fe64ec7c",
   "metadata": {},
   "outputs": [],
   "source": [
    "import requests\n",
    "import pandas as pd"
   ]
  },
  {
   "cell_type": "code",
   "execution_count": 10,
   "id": "3e15d003",
   "metadata": {},
   "outputs": [],
   "source": [
    "from models.data import AlphaVantageAPI"
   ]
  },
  {
   "cell_type": "code",
   "execution_count": 11,
   "id": "d40f0b67",
   "metadata": {},
   "outputs": [],
   "source": [
    "av = AlphaVantageAPI()"
   ]
  },
  {
   "cell_type": "code",
   "execution_count": 6,
   "id": "bafc14b9",
   "metadata": {},
   "outputs": [
    {
     "ename": "TypeError",
     "evalue": "object of type 'NoneType' has no len()",
     "output_type": "error",
     "traceback": [
      "\u001b[1;31m---------------------------------------------------------------------------\u001b[0m",
      "\u001b[1;31mTypeError\u001b[0m                                 Traceback (most recent call last)",
      "Cell \u001b[1;32mIn[6], line 3\u001b[0m\n\u001b[0;32m      1\u001b[0m keywords \u001b[38;5;241m=\u001b[39m \u001b[38;5;124m'\u001b[39m\u001b[38;5;124malibaba\u001b[39m\u001b[38;5;124m'\u001b[39m\n\u001b[1;32m----> 3\u001b[0m search \u001b[38;5;241m=\u001b[39m \u001b[43mav\u001b[49m\u001b[38;5;241;43m.\u001b[39;49m\u001b[43mget_symbol\u001b[49m\u001b[43m(\u001b[49m\u001b[43mkeywords\u001b[49m\u001b[43m)\u001b[49m\n\u001b[0;32m      5\u001b[0m \u001b[38;5;28mprint\u001b[39m(\u001b[38;5;28mtype\u001b[39m(search))\n\u001b[0;32m      7\u001b[0m search\n",
      "File \u001b[1;32m~\\Workspace\\portfolio-project\\Stocks_Interact\\models\\data.py:39\u001b[0m, in \u001b[0;36mAlphaVantageAPI.get_symbol\u001b[1;34m(self, keywords)\u001b[0m\n\u001b[0;32m     37\u001b[0m bestMatches\u001b[38;5;241m=\u001b[39mresponse_data\u001b[38;5;241m.\u001b[39mget(\u001b[38;5;124m'\u001b[39m\u001b[38;5;124mbestMatches\u001b[39m\u001b[38;5;124m'\u001b[39m)\n\u001b[0;32m     38\u001b[0m search \u001b[38;5;241m=\u001b[39m {}\n\u001b[1;32m---> 39\u001b[0m \u001b[38;5;28;01mfor\u001b[39;00m i \u001b[38;5;129;01min\u001b[39;00m \u001b[38;5;28mrange\u001b[39m(\u001b[38;5;28;43mlen\u001b[39;49m\u001b[43m(\u001b[49m\u001b[43mbestMatches\u001b[49m\u001b[43m)\u001b[49m):\n\u001b[0;32m     40\u001b[0m     search[\u001b[38;5;28mstr\u001b[39m((bestMatches[i]\u001b[38;5;241m.\u001b[39mget(\u001b[38;5;124m'\u001b[39m\u001b[38;5;124m1. symbol\u001b[39m\u001b[38;5;124m'\u001b[39m), bestMatches[i]\u001b[38;5;241m.\u001b[39mget(\u001b[38;5;124m'\u001b[39m\u001b[38;5;124m2. name\u001b[39m\u001b[38;5;124m'\u001b[39m)))] \u001b[38;5;241m=\u001b[39m bestMatches[i]\u001b[38;5;241m.\u001b[39mget(\u001b[38;5;124m'\u001b[39m\u001b[38;5;124m1. symbol\u001b[39m\u001b[38;5;124m'\u001b[39m)\n\u001b[0;32m     41\u001b[0m \u001b[38;5;28;01mreturn\u001b[39;00m search\n",
      "\u001b[1;31mTypeError\u001b[0m: object of type 'NoneType' has no len()"
     ]
    }
   ],
   "source": [
    "keywords = 'alibaba'\n",
    "\n",
    "search = av.get_symbol(keywords)\n",
    "\n",
    "print(type(search))\n",
    "\n",
    "search"
   ]
  },
  {
   "cell_type": "code",
   "execution_count": null,
   "id": "f2185cfd",
   "metadata": {},
   "outputs": [],
   "source": []
  }
 ],
 "metadata": {
  "kernelspec": {
   "display_name": "Python 3 (ipykernel)",
   "language": "python",
   "name": "python3"
  },
  "language_info": {
   "codemirror_mode": {
    "name": "ipython",
    "version": 3
   },
   "file_extension": ".py",
   "mimetype": "text/x-python",
   "name": "python",
   "nbconvert_exporter": "python",
   "pygments_lexer": "ipython3",
   "version": "3.10.9"
  }
 },
 "nbformat": 4,
 "nbformat_minor": 5
}
