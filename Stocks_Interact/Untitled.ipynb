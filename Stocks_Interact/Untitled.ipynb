{
 "cells": [
  {
   "cell_type": "code",
   "execution_count": 1,
   "id": "93974c95",
   "metadata": {},
   "outputs": [],
   "source": [
    "from config import settings"
   ]
  },
  {
   "cell_type": "code",
   "execution_count": 2,
   "id": "93b8c9bc",
   "metadata": {},
   "outputs": [],
   "source": [
    "import requests\n",
    "import numpy as np\n",
    "import pandas as pd\n",
    "import plotly.express as px\n",
    "from plotly.subplots import make_subplots\n",
    "import plotly.graph_objects as go\n",
    "import matplotlib.pyplot as plt\n",
    "from statsmodels.tsa.stattools import adfuller\n",
    "from statsmodels.graphics.tsaplots import plot_acf, plot_pacf\n",
    "from pmdarima.arima import ndiffs\n",
    "from pmdarima.arima import auto_arima\n",
    "from statsmodels.tsa.statespace.sarimax import SARIMAX\n",
    "from statsmodels.tsa.arima.model import ARIMA\n",
    "from datetime import datetime\n",
    "%matplotlib inline"
   ]
  },
  {
   "cell_type": "code",
   "execution_count": 3,
   "id": "fe64ec7c",
   "metadata": {},
   "outputs": [],
   "source": [
    "from models.data import AlphaVantageAPI\n",
    "from models.graph import GraphBuilder\n",
    "from models.model import ArimaModelBuilder, LSTMModelBuilder"
   ]
  },
  {
   "cell_type": "code",
   "execution_count": 4,
   "id": "d40f0b67",
   "metadata": {},
   "outputs": [],
   "source": [
    "av = AlphaVantageAPI()"
   ]
  },
  {
   "cell_type": "code",
   "execution_count": 5,
   "id": "bafc14b9",
   "metadata": {
    "scrolled": true
   },
   "outputs": [
    {
     "data": {
      "text/html": [
       "<div>\n",
       "<style scoped>\n",
       "    .dataframe tbody tr th:only-of-type {\n",
       "        vertical-align: middle;\n",
       "    }\n",
       "\n",
       "    .dataframe tbody tr th {\n",
       "        vertical-align: top;\n",
       "    }\n",
       "\n",
       "    .dataframe thead th {\n",
       "        text-align: right;\n",
       "    }\n",
       "</style>\n",
       "<table border=\"1\" class=\"dataframe\">\n",
       "  <thead>\n",
       "    <tr style=\"text-align: right;\">\n",
       "      <th></th>\n",
       "      <th>open</th>\n",
       "      <th>high</th>\n",
       "      <th>low</th>\n",
       "      <th>close</th>\n",
       "      <th>volume</th>\n",
       "    </tr>\n",
       "    <tr>\n",
       "      <th>date</th>\n",
       "      <th></th>\n",
       "      <th></th>\n",
       "      <th></th>\n",
       "      <th></th>\n",
       "      <th></th>\n",
       "    </tr>\n",
       "  </thead>\n",
       "  <tbody>\n",
       "    <tr>\n",
       "      <th>2023-10-27</th>\n",
       "      <td>143.62</td>\n",
       "      <td>144.70</td>\n",
       "      <td>141.71</td>\n",
       "      <td>142.52</td>\n",
       "      <td>5469227.0</td>\n",
       "    </tr>\n",
       "    <tr>\n",
       "      <th>2023-10-26</th>\n",
       "      <td>142.20</td>\n",
       "      <td>144.41</td>\n",
       "      <td>141.58</td>\n",
       "      <td>143.76</td>\n",
       "      <td>11130170.0</td>\n",
       "    </tr>\n",
       "    <tr>\n",
       "      <th>2023-10-25</th>\n",
       "      <td>137.50</td>\n",
       "      <td>138.49</td>\n",
       "      <td>136.33</td>\n",
       "      <td>137.08</td>\n",
       "      <td>6472549.0</td>\n",
       "    </tr>\n",
       "    <tr>\n",
       "      <th>2023-10-24</th>\n",
       "      <td>136.74</td>\n",
       "      <td>137.98</td>\n",
       "      <td>136.05</td>\n",
       "      <td>137.79</td>\n",
       "      <td>3697975.0</td>\n",
       "    </tr>\n",
       "    <tr>\n",
       "      <th>2023-10-23</th>\n",
       "      <td>136.63</td>\n",
       "      <td>137.68</td>\n",
       "      <td>135.87</td>\n",
       "      <td>136.38</td>\n",
       "      <td>3457527.0</td>\n",
       "    </tr>\n",
       "  </tbody>\n",
       "</table>\n",
       "</div>"
      ],
      "text/plain": [
       "              open    high     low   close      volume\n",
       "date                                                  \n",
       "2023-10-27  143.62  144.70  141.71  142.52   5469227.0\n",
       "2023-10-26  142.20  144.41  141.58  143.76  11130170.0\n",
       "2023-10-25  137.50  138.49  136.33  137.08   6472549.0\n",
       "2023-10-24  136.74  137.98  136.05  137.79   3697975.0\n",
       "2023-10-23  136.63  137.68  135.87  136.38   3457527.0"
      ]
     },
     "execution_count": 5,
     "metadata": {},
     "output_type": "execute_result"
    }
   ],
   "source": [
    "ticker = 'IBM'\n",
    "df = av.get_daily(ticker = ticker)\n",
    "df.head()"
   ]
  },
  {
   "cell_type": "code",
   "execution_count": 7,
   "id": "8e1f178b",
   "metadata": {},
   "outputs": [
    {
     "data": {
      "text/plain": [
       "open      0\n",
       "high      0\n",
       "low       0\n",
       "close     0\n",
       "volume    0\n",
       "dtype: int64"
      ]
     },
     "execution_count": 7,
     "metadata": {},
     "output_type": "execute_result"
    }
   ],
   "source": [
    "df.isnull().sum()"
   ]
  },
  {
   "cell_type": "code",
   "execution_count": null,
   "id": "6badb73e",
   "metadata": {},
   "outputs": [],
   "source": [
    "df = df.asfreq('d')"
   ]
  },
  {
   "cell_type": "code",
   "execution_count": null,
   "id": "fec9bfb3",
   "metadata": {},
   "outputs": [],
   "source": [
    "y = df['close']"
   ]
  },
  {
   "cell_type": "code",
   "execution_count": null,
   "id": "1b11058d",
   "metadata": {},
   "outputs": [],
   "source": [
    "y.index"
   ]
  },
  {
   "cell_type": "code",
   "execution_count": null,
   "id": "af8738fc",
   "metadata": {
    "scrolled": true
   },
   "outputs": [],
   "source": [
    "df_log = np.log(y).dropna()\n",
    "model_autoARIMA = auto_arima(df_log, start_p=0,\n",
    "                             start_q=0, start_P=0,\n",
    "                             start_Q=0, test='adf', error_action='trace')\n",
    "get_parametes = model_autoARIMA.get_params()\n",
    "summary = model_autoARIMA.summary()\n",
    "summary"
   ]
  },
  {
   "cell_type": "code",
   "execution_count": null,
   "id": "78704a41",
   "metadata": {
    "scrolled": true
   },
   "outputs": [],
   "source": [
    "df_log.index"
   ]
  },
  {
   "cell_type": "code",
   "execution_count": null,
   "id": "84f93c83",
   "metadata": {},
   "outputs": [],
   "source": [
    "test_size = 0.01\n",
    "limit = int(len(df_log) * test_size)\n",
    "train = df_log.iloc[limit:]\n",
    "test = df_log.iloc[:limit]\n",
    "len_train = len(train)\n",
    "len_test = len(test)\n",
    "len_train,len_test"
   ]
  },
  {
   "cell_type": "code",
   "execution_count": null,
   "id": "6b4b0cb1",
   "metadata": {},
   "outputs": [],
   "source": [
    "train.index"
   ]
  },
  {
   "cell_type": "code",
   "execution_count": null,
   "id": "2b23fd43",
   "metadata": {
    "scrolled": true
   },
   "outputs": [],
   "source": [
    "order_aa = get_parametes.get('order')\n",
    "seasonal_order_aa = get_parametes.get('seasonal_order')\n",
    "        \n",
    "model = SARIMAX(train.close,\n",
    "                     order = (order_aa[0], order_aa[1], order_aa[2]),\n",
    "                     seasonal_order =(seasonal_order_aa[0],\n",
    "                                      seasonal_order_aa[1], seasonal_order_aa[2], seasonal_order_aa[3]))\n",
    "result = model.fit(disp=0)\n",
    "summary =result.summary()\n",
    "summary"
   ]
  },
  {
   "cell_type": "code",
   "execution_count": null,
   "id": "ad652dde",
   "metadata": {},
   "outputs": [],
   "source": [
    "str(train.index[0])"
   ]
  },
  {
   "cell_type": "code",
   "execution_count": null,
   "id": "c0f7af16",
   "metadata": {},
   "outputs": [],
   "source": [
    "timestamp = train.index[0]\n",
    "\n",
    "dt_object = datetime.fromtimestamp(timestamp)\n",
    "\n",
    "print('Date and Time is:', dt_object)"
   ]
  },
  {
   "cell_type": "code",
   "execution_count": null,
   "id": "80b9508a",
   "metadata": {},
   "outputs": [],
   "source": [
    "y_pred_wfv = result.predict(dynamic=False)\n",
    "df_predictions = pd.DataFrame({\"train\" : train.close, \"test\" : test.close, \"predict\" : y_pred_wfv})\n",
    "fig = px.line(df_predictions)\n",
    "fig"
   ]
  },
  {
   "cell_type": "code",
   "execution_count": null,
   "id": "40a11ccc",
   "metadata": {},
   "outputs": [],
   "source": [
    "# Forecast\n",
    "fc= result.forecast()  # 95% conf\n",
    "# Make as pandas series\n",
    "fc_series = pd.Series(fc, index=test.index)\n",
    "# Plot\n",
    "plt.figure(figsize=(10,5), dpi=100)\n",
    "plt.plot(train.close, label='training data')\n",
    "plt.plot(test.close, color = 'blue', label='Actual Stock Price')\n",
    "plt.plot(fc_series, color = 'orange',label='Predicted Stock Price')\n",
    "plt.title('ARCH CAPITAL GROUP Stock Price Prediction')\n",
    "plt.xlabel('Time')\n",
    "plt.ylabel('ARCH CAPITAL GROUP Stock Price')\n",
    "plt.legend(loc='upper left', fontsize=8)\n",
    "plt.show()"
   ]
  },
  {
   "cell_type": "code",
   "execution_count": null,
   "id": "46990b32",
   "metadata": {},
   "outputs": [],
   "source": [
    "order_aa = get_parametes.get('order')\n",
    "seasonal_order_aa = get_parametes.get('seasonal_order')\n",
    "        \n",
    "model_ar = ARIMA(train.close,\n",
    "                     order = (order_aa[0], order_aa[1], order_aa[2]))\n",
    "result_ar = model.fit()\n",
    "summary_ar =result.summary()\n",
    "summary_ar"
   ]
  },
  {
   "cell_type": "code",
   "execution_count": null,
   "id": "b078bd27",
   "metadata": {
    "scrolled": true
   },
   "outputs": [],
   "source": [
    "y_pred_wfv = result_ar.predict(dynamic=False)\n",
    "df_predictions = pd.DataFrame({\"train\" : train.close, \"test\" : test.close, \"predict\" : y_pred_wfv})\n",
    "fig = px.line(df_predictions)\n",
    "fig"
   ]
  },
  {
   "cell_type": "code",
   "execution_count": null,
   "id": "214e0d82",
   "metadata": {},
   "outputs": [],
   "source": [
    "test.index"
   ]
  },
  {
   "cell_type": "code",
   "execution_count": null,
   "id": "b07d79ea",
   "metadata": {
    "scrolled": true
   },
   "outputs": [],
   "source": [
    "# Forecast\n",
    "fc= result_ar.forecast(60)  # 95% conf\n",
    "# Make as pandas series\n",
    "fc_series = pd.Series(fc, index=test.index)\n",
    "# Plot\n",
    "plt.figure(figsize=(10,5), dpi=100)\n",
    "plt.plot(train.close, label='training data')\n",
    "plt.plot(test.close, color = 'blue', label='Actual Stock Price')\n",
    "plt.plot(fc_series, color = 'orange',label='Predicted Stock Price')\n",
    "plt.title('ARCH CAPITAL GROUP Stock Price Prediction')\n",
    "plt.xlabel('Time')\n",
    "plt.ylabel('ARCH CAPITAL GROUP Stock Price')\n",
    "plt.legend(loc='upper left', fontsize=8)\n",
    "plt.show()"
   ]
  },
  {
   "cell_type": "code",
   "execution_count": null,
   "id": "12fcdeaa",
   "metadata": {},
   "outputs": [],
   "source": [
    "y_train = train.close\n",
    "y_test = test.close\n",
    "y_test.index"
   ]
  },
  {
   "cell_type": "code",
   "execution_count": null,
   "id": "47b1a7c5",
   "metadata": {},
   "outputs": [],
   "source": [
    "y_pred_wfv = pd.Series()\n",
    "history = y_train.copy()\n",
    "for i in range(len(y_test)):\n",
    "    model = ARIMA(history, order = (8, 0, 1)).fit()\n",
    "    next_pred = model.forecast()\n",
    "    y_pred_wfv = y_pred_wfv.append(next_pred)\n",
    "    history = history.append(y_test[next_pred.index])"
   ]
  },
  {
   "cell_type": "code",
   "execution_count": null,
   "id": "0dba0e7c",
   "metadata": {},
   "outputs": [],
   "source": [
    "history"
   ]
  },
  {
   "cell_type": "code",
   "execution_count": null,
   "id": "93f3653f",
   "metadata": {},
   "outputs": [],
   "source": [
    "len(y_test)"
   ]
  },
  {
   "cell_type": "code",
   "execution_count": null,
   "id": "fd5fff54",
   "metadata": {},
   "outputs": [],
   "source": [
    "df_predictions = pd.DataFrame({\"y_test\" : y_test, \"y_pred_wfv\" : y_pred_wfv})\n",
    "fig = px.line(df_predictions)\n",
    "fig.show()"
   ]
  },
  {
   "cell_type": "code",
   "execution_count": null,
   "id": "5a2d9be1",
   "metadata": {},
   "outputs": [],
   "source": []
  }
 ],
 "metadata": {
  "kernelspec": {
   "display_name": "Python 3 (ipykernel)",
   "language": "python",
   "name": "python3"
  },
  "language_info": {
   "codemirror_mode": {
    "name": "ipython",
    "version": 3
   },
   "file_extension": ".py",
   "mimetype": "text/x-python",
   "name": "python",
   "nbconvert_exporter": "python",
   "pygments_lexer": "ipython3",
   "version": "3.10.9"
  }
 },
 "nbformat": 4,
 "nbformat_minor": 5
}
