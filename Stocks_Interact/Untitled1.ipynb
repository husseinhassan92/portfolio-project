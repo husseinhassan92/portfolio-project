{
 "cells": [
  {
   "cell_type": "code",
   "execution_count": 1,
   "id": "bb7b3d7d",
   "metadata": {},
   "outputs": [],
   "source": [
    "from config import settings"
   ]
  },
  {
   "cell_type": "code",
   "execution_count": 2,
   "id": "9a41618e",
   "metadata": {},
   "outputs": [],
   "source": [
    "import requests\n",
    "import numpy as np\n",
    "import pandas as pd\n",
    "import plotly.express as px\n",
    "from plotly.subplots import make_subplots\n",
    "import plotly.graph_objects as go\n",
    "import matplotlib.pyplot as plt\n",
    "from statsmodels.tsa.stattools import adfuller\n",
    "from statsmodels.graphics.tsaplots import plot_acf, plot_pacf\n",
    "from pmdarima.arima import ndiffs\n",
    "from pmdarima.arima import auto_arima\n",
    "from statsmodels.tsa.statespace.sarimax import SARIMAX\n",
    "from statsmodels.tsa.arima.model import ARIMA\n",
    "from datetime import datetime\n",
    "%matplotlib inline"
   ]
  },
  {
   "cell_type": "code",
   "execution_count": 3,
   "id": "2651cbf3",
   "metadata": {},
   "outputs": [],
   "source": [
    "from models.data import AlphaVantageAPI\n",
    "from models.graph import GraphBuilder\n",
    "from models.model import ArimaModelBuilder"
   ]
  },
  {
   "cell_type": "code",
   "execution_count": 4,
   "id": "777cdd76",
   "metadata": {},
   "outputs": [],
   "source": [
    "av = AlphaVantageAPI()"
   ]
  },
  {
   "cell_type": "code",
   "execution_count": 5,
   "id": "cf710f90",
   "metadata": {},
   "outputs": [
    {
     "ename": "Exception",
     "evalue": "Invalid Api call. check the ticker 'IBM' is correct",
     "output_type": "error",
     "traceback": [
      "\u001b[1;31m---------------------------------------------------------------------------\u001b[0m",
      "\u001b[1;31mException\u001b[0m                                 Traceback (most recent call last)",
      "Cell \u001b[1;32mIn[5], line 2\u001b[0m\n\u001b[0;32m      1\u001b[0m ticker \u001b[38;5;241m=\u001b[39m \u001b[38;5;124m'\u001b[39m\u001b[38;5;124mIBM\u001b[39m\u001b[38;5;124m'\u001b[39m\n\u001b[1;32m----> 2\u001b[0m df \u001b[38;5;241m=\u001b[39m \u001b[43mav\u001b[49m\u001b[38;5;241;43m.\u001b[39;49m\u001b[43mget_daily\u001b[49m\u001b[43m(\u001b[49m\u001b[43mticker\u001b[49m\u001b[43m \u001b[49m\u001b[38;5;241;43m=\u001b[39;49m\u001b[43m \u001b[49m\u001b[43mticker\u001b[49m\u001b[43m)\u001b[49m\n\u001b[0;32m      3\u001b[0m df\u001b[38;5;241m.\u001b[39mhead()\n",
      "File \u001b[1;32m~\\Workspace\\portfolio-project\\Stocks_Interact\\models\\data.py:83\u001b[0m, in \u001b[0;36mAlphaVantageAPI.get_daily\u001b[1;34m(self, ticker, output_size)\u001b[0m\n\u001b[0;32m     80\u001b[0m response_data\u001b[38;5;241m=\u001b[39mresponse\u001b[38;5;241m.\u001b[39mjson()\n\u001b[0;32m     82\u001b[0m \u001b[38;5;28;01mif\u001b[39;00m \u001b[38;5;124m\"\u001b[39m\u001b[38;5;124mTime Series (Daily)\u001b[39m\u001b[38;5;124m\"\u001b[39m \u001b[38;5;129;01mnot\u001b[39;00m \u001b[38;5;129;01min\u001b[39;00m response_data\u001b[38;5;241m.\u001b[39mkeys():\n\u001b[1;32m---> 83\u001b[0m     \u001b[38;5;28;01mraise\u001b[39;00m \u001b[38;5;167;01mException\u001b[39;00m(\n\u001b[0;32m     84\u001b[0m         \u001b[38;5;124mf\u001b[39m\u001b[38;5;124m\"\u001b[39m\u001b[38;5;124mInvalid Api call. check the ticker \u001b[39m\u001b[38;5;124m'\u001b[39m\u001b[38;5;132;01m{\u001b[39;00mticker\u001b[38;5;132;01m}\u001b[39;00m\u001b[38;5;124m'\u001b[39m\u001b[38;5;124m is correct\u001b[39m\u001b[38;5;124m\"\u001b[39m\n\u001b[0;32m     85\u001b[0m     )\n\u001b[0;32m     87\u001b[0m \u001b[38;5;66;03m# Read data into DataFrame (8.1.12 & 8.1.13)\u001b[39;00m\n\u001b[0;32m     88\u001b[0m stock_data\u001b[38;5;241m=\u001b[39mresponse_data[\u001b[38;5;124m\"\u001b[39m\u001b[38;5;124mTime Series (Daily)\u001b[39m\u001b[38;5;124m\"\u001b[39m]\n",
      "\u001b[1;31mException\u001b[0m: Invalid Api call. check the ticker 'IBM' is correct"
     ]
    }
   ],
   "source": [
    "ticker = 'IBM'\n",
    "df = av.get_daily(ticker = ticker)\n",
    "df.head()"
   ]
  },
  {
   "cell_type": "code",
   "execution_count": null,
   "id": "dd6b6bab",
   "metadata": {},
   "outputs": [],
   "source": [
    "df.isnull().sum()"
   ]
  },
  {
   "cell_type": "code",
   "execution_count": null,
   "id": "d07895c6",
   "metadata": {},
   "outputs": [],
   "source": [
    "df = df.asfreq('d')"
   ]
  },
  {
   "cell_type": "code",
   "execution_count": null,
   "id": "64eeeedf",
   "metadata": {},
   "outputs": [],
   "source": [
    "df.isnull().sum()"
   ]
  },
  {
   "cell_type": "code",
   "execution_count": null,
   "id": "260ea4c3",
   "metadata": {},
   "outputs": [],
   "source": [
    "y = df[\"close\"].fillna(method = \"ffill\")"
   ]
  },
  {
   "cell_type": "code",
   "execution_count": null,
   "id": "8ce8396e",
   "metadata": {},
   "outputs": [],
   "source": [
    "y.isnull().sum()"
   ]
  },
  {
   "cell_type": "code",
   "execution_count": null,
   "id": "d72c2c4d",
   "metadata": {},
   "outputs": [],
   "source": [
    "y.shape"
   ]
  },
  {
   "cell_type": "code",
   "execution_count": null,
   "id": "5fb4adb8",
   "metadata": {},
   "outputs": [],
   "source": [
    "y.index"
   ]
  },
  {
   "cell_type": "code",
   "execution_count": null,
   "id": "345acb19",
   "metadata": {},
   "outputs": [],
   "source": [
    "df_log = np.log(y).dropna()\n",
    "model_autoARIMA = auto_arima(df_log, start_p=0,\n",
    "                             start_q=0, start_P=0,\n",
    "                             start_Q=0, test='adf', error_action='trace')\n",
    "get_parametes = model_autoARIMA.get_params()\n",
    "summary = model_autoARIMA.summary()\n",
    "summary"
   ]
  },
  {
   "cell_type": "code",
   "execution_count": null,
   "id": "bc2c19a1",
   "metadata": {},
   "outputs": [],
   "source": [
    "df_log.shape"
   ]
  },
  {
   "cell_type": "code",
   "execution_count": null,
   "id": "45f53823",
   "metadata": {},
   "outputs": [],
   "source": [
    "df_log.index[0]"
   ]
  },
  {
   "cell_type": "code",
   "execution_count": null,
   "id": "20580ee1",
   "metadata": {},
   "outputs": [],
   "source": [
    "test_size = 0.995\n",
    "limit = int(len(df_log) * test_size)\n",
    "y_train = df_log.iloc[:limit]\n",
    "y_test = df_log.iloc[limit:]\n",
    "len_train = len(y_train)\n",
    "len_test = len(y_test)\n",
    "len_train+len_test"
   ]
  },
  {
   "cell_type": "code",
   "execution_count": null,
   "id": "9554f1b4",
   "metadata": {},
   "outputs": [],
   "source": [
    "y_test.index[0]"
   ]
  },
  {
   "cell_type": "code",
   "execution_count": null,
   "id": "82cc951e",
   "metadata": {},
   "outputs": [],
   "source": [
    "y_train.index[-1]"
   ]
  },
  {
   "cell_type": "code",
   "execution_count": null,
   "id": "aede1186",
   "metadata": {},
   "outputs": [],
   "source": [
    "order_aa = get_parametes.get('order')\n",
    "seasonal_order_aa = get_parametes.get('seasonal_order')\n",
    "        \n",
    "model = SARIMAX(y_train,\n",
    "                     order = (order_aa[0], order_aa[1], order_aa[2]),\n",
    "                     seasonal_order =(seasonal_order_aa[0],\n",
    "                                      seasonal_order_aa[1], seasonal_order_aa[2], seasonal_order_aa[3]))\n",
    "result = model.fit(disp=0)\n",
    "summary =result.summary()\n",
    "summary"
   ]
  },
  {
   "cell_type": "code",
   "execution_count": null,
   "id": "45558a9b",
   "metadata": {},
   "outputs": [],
   "source": [
    "fc= result.forecast()  # 95% conf\n",
    "# Make as pandas series\n",
    "fc_series = pd.Series(fc, index=y_test.index)\n",
    "# Plot\n",
    "plt.figure(figsize=(10,5), dpi=100)\n",
    "plt.plot(y_train, label='training data')\n",
    "plt.plot(y_test, color = 'blue', label='Actual Stock Price')\n",
    "plt.plot(fc_series, color = 'orange',label='Predicted Stock Price')\n",
    "plt.title('ARCH CAPITAL GROUP Stock Price Prediction')\n",
    "plt.xlabel('Time')\n",
    "plt.ylabel('ARCH CAPITAL GROUP Stock Price')\n",
    "plt.legend(loc='upper left', fontsize=8)\n",
    "plt.show()"
   ]
  },
  {
   "cell_type": "code",
   "execution_count": null,
   "id": "8137369d",
   "metadata": {},
   "outputs": [],
   "source": [
    "order_aa = get_parametes.get('order')\n",
    "seasonal_order_aa = get_parametes.get('seasonal_order')\n",
    "        \n",
    "model_ar = ARIMA(y_train,\n",
    "                     order = (order_aa[0], order_aa[1], order_aa[2]))\n",
    "result_ar = model.fit()\n",
    "summary_ar =result.summary()\n",
    "summary_ar"
   ]
  },
  {
   "cell_type": "code",
   "execution_count": null,
   "id": "4f78ec26",
   "metadata": {},
   "outputs": [],
   "source": [
    "# Forecast\n",
    "Forecast= result.get_forecast(len(y_test)+10)  # 95% conf\n",
    "conf = Forecast.conf_int()\n",
    "# Make as pandas series\n",
    "fc_series = pd.Series(fc, index=y_test.index)\n",
    "lower_series = pd.Series(conf.loc[:, 'lower close'], index=y_test.index)\n",
    "upper_series = pd.Series(conf.loc[:, 'upper close'], index=y_test.index)\n",
    "# Plot\n",
    "plt.figure(figsize=(10,5), dpi=100)\n",
    "plt.plot(y_train, label='training data')\n",
    "plt.plot(y_test, color = 'blue', label='Actual Stock Price')\n",
    "plt.plot(fc_series, color = 'orange',label='Predicted Stock Price')\n",
    "plt.fill_between(lower_series.index, lower_series, upper_series, \n",
    "                 color='k', alpha=.10)\n",
    "plt.title('ARCH CAPITAL GROUP Stock Price Prediction')\n",
    "plt.xlabel('Time')\n",
    "plt.ylabel('ARCH CAPITAL GROUP Stock Price')\n",
    "plt.legend(loc='upper left', fontsize=8)\n",
    "plt.show()"
   ]
  },
  {
   "cell_type": "code",
   "execution_count": null,
   "id": "d75964cc",
   "metadata": {},
   "outputs": [],
   "source": [
    "lower_series = pd.Series(conf.loc[:, 'lower close'], index=y_test.index)\n",
    "lower_series"
   ]
  },
  {
   "cell_type": "code",
   "execution_count": null,
   "id": "dcf87080",
   "metadata": {},
   "outputs": [],
   "source": [
    "Forecast.conf_int()"
   ]
  },
  {
   "cell_type": "code",
   "execution_count": null,
   "id": "4a8f2af4",
   "metadata": {},
   "outputs": [],
   "source": [
    "result.conf_int()"
   ]
  },
  {
   "cell_type": "code",
   "execution_count": null,
   "id": "b54a776c",
   "metadata": {},
   "outputs": [],
   "source": [
    "y_test.index"
   ]
  },
  {
   "cell_type": "code",
   "execution_count": null,
   "id": "d93b2622",
   "metadata": {},
   "outputs": [],
   "source": [
    "y_pred_wfv = pd.Series()\n",
    "history = y_train.copy()\n",
    "for i in range(len(y_test)):\n",
    "    model = ARIMA(history, order = (1, 1, 0)).fit()\n",
    "    next_pred = model.forecast()\n",
    "    y_pred_wfv = y_pred_wfv.append(next_pred)\n",
    "    history = history.append(y_test[next_pred.index])"
   ]
  },
  {
   "cell_type": "code",
   "execution_count": null,
   "id": "ab6d620b",
   "metadata": {},
   "outputs": [],
   "source": [
    "df_predictions_1 = pd.DataFrame({\"y_test\" : y_test, \"y_pred_SAR\" : y_pred_SAR})\n",
    "fig = px.line(df_predictions_1)\n",
    "fig.show()"
   ]
  },
  {
   "cell_type": "code",
   "execution_count": null,
   "id": "b91696b8",
   "metadata": {
    "scrolled": true
   },
   "outputs": [],
   "source": [
    "y_pred_ar = result.predict(start = len(y_train), end = (len(y_train)+len(y_test)+10) ,dynamic=False)\n",
    "df_predictions = pd.DataFrame({\"train\" : y_train, \"test\" : y_test, \"predict\" : y_pred_ar})\n",
    "fig = px.line(df_predictions)\n",
    "fig"
   ]
  },
  {
   "cell_type": "code",
   "execution_count": null,
   "id": "a108c388",
   "metadata": {},
   "outputs": [],
   "source": [
    "y_pred_ar.conf_int()"
   ]
  },
  {
   "cell_type": "code",
   "execution_count": null,
   "id": "661dbf0a",
   "metadata": {},
   "outputs": [],
   "source": []
  }
 ],
 "metadata": {
  "kernelspec": {
   "display_name": "Python 3 (ipykernel)",
   "language": "python",
   "name": "python3"
  },
  "language_info": {
   "codemirror_mode": {
    "name": "ipython",
    "version": 3
   },
   "file_extension": ".py",
   "mimetype": "text/x-python",
   "name": "python",
   "nbconvert_exporter": "python",
   "pygments_lexer": "ipython3",
   "version": "3.10.9"
  }
 },
 "nbformat": 4,
 "nbformat_minor": 5
}
