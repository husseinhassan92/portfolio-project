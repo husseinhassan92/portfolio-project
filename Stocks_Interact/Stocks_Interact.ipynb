{
 "cells": [
  {
   "cell_type": "code",
   "execution_count": 1,
   "id": "19fe2ade",
   "metadata": {},
   "outputs": [],
   "source": [
    "from config import settings"
   ]
  },
  {
   "cell_type": "code",
   "execution_count": 2,
   "id": "731d9504",
   "metadata": {},
   "outputs": [],
   "source": [
    "import requests\n",
    "import pandas as pd"
   ]
  },
  {
   "cell_type": "code",
   "execution_count": 3,
   "id": "1d86704d",
   "metadata": {},
   "outputs": [],
   "source": [
    "from models.data import AlphaVantageAPI"
   ]
  },
  {
   "cell_type": "code",
   "execution_count": 4,
   "id": "5f223d19",
   "metadata": {},
   "outputs": [],
   "source": [
    "av = AlphaVantageAPI()"
   ]
  },
  {
   "cell_type": "code",
   "execution_count": null,
   "id": "4a58c52c",
   "metadata": {},
   "outputs": [],
   "source": [
    "keywords = 'alibaba'\n",
    "\n",
    "search = av.get_symbol(keywords)\n",
    "\n",
    "print(type(search))\n",
    "\n",
    "search"
   ]
  },
  {
   "cell_type": "code",
   "execution_count": null,
   "id": "46cd1223",
   "metadata": {},
   "outputs": [],
   "source": [
    "ticker = 'BABA'\n",
    "df_suzlon = av.get_daily(ticker = ticker)\n",
    "\n",
    "print(\"df_suzlon type:\", type(df_suzlon))\n",
    "print(\"df_suzlon shape:\", df_suzlon.shape)\n",
    "df_suzlon.head()"
   ]
  },
  {
   "cell_type": "code",
   "execution_count": null,
   "id": "653eb363",
   "metadata": {},
   "outputs": [],
   "source": [
    "keywords = 'alibaba'\n",
    "url = (\n",
    "    \"https://www.alphavantage.co/query?\"\n",
    "    \"function=SYMBOL_SEARCH\"\n",
    "    f\"&keywords={keywords}\"\n",
    "    f\"&apikey={settings.api_key}\"\n",
    ")\n",
    "response = requests.get(url=url)\n",
    "response_data = response.json()\n",
    "bestMatches=response_data.get('bestMatches')\n",
    "search = {}\n",
    "for i in bestMatches:\n",
    "    search[i] = (bestMatches[i].get('1. symbol'), bestMatches[i].get('2. name'))"
   ]
  },
  {
   "cell_type": "code",
   "execution_count": null,
   "id": "1a43e151",
   "metadata": {},
   "outputs": [],
   "source": [
    "ticker ='BABA'\n",
    "df = av.get_daily(ticker = ticker)\n",
    "\n",
    "print(\"df:\", type(df))\n",
    "print(\"df:\", df.shape)\n",
    "df_suzlon.head()"
   ]
  },
  {
   "cell_type": "code",
   "execution_count": null,
   "id": "bad36d8b",
   "metadata": {},
   "outputs": [],
   "source": [
    "type(bestMatches)"
   ]
  },
  {
   "cell_type": "code",
   "execution_count": 5,
   "id": "f14b5740",
   "metadata": {},
   "outputs": [
    {
     "data": {
      "text/plain": [
       "{'Information': 'Thank you for using Alpha Vantage! Our standard API rate limit is 25 requests per day. Please subscribe to any of the premium plans at https://www.alphavantage.co/premium/ to instantly remove all daily rate limits.'}"
      ]
     },
     "execution_count": 5,
     "metadata": {},
     "output_type": "execute_result"
    }
   ],
   "source": [
    "keywords = 'alibaba'\n",
    "url = (\n",
    "    \"https://www.alphavantage.co/query?\"\n",
    "    \"function=SYMBOL_SEARCH\"\n",
    "    f\"&keywords={keywords}\"\n",
    "    f\"&apikey={settings.api_key}\"\n",
    ")\n",
    "response = requests.get(url=url)\n",
    "response_data = response.json()\n",
    "response_data"
   ]
  },
  {
   "cell_type": "code",
   "execution_count": null,
   "id": "4f865db8",
   "metadata": {},
   "outputs": [],
   "source": []
  }
 ],
 "metadata": {
  "kernelspec": {
   "display_name": "Python 3 (ipykernel)",
   "language": "python",
   "name": "python3"
  },
  "language_info": {
   "codemirror_mode": {
    "name": "ipython",
    "version": 3
   },
   "file_extension": ".py",
   "mimetype": "text/x-python",
   "name": "python",
   "nbconvert_exporter": "python",
   "pygments_lexer": "ipython3",
   "version": "3.10.9"
  }
 },
 "nbformat": 4,
 "nbformat_minor": 5
}
