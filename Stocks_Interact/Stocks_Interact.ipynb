{
 "cells": [
  {
   "cell_type": "code",
   "execution_count": 1,
   "id": "19fe2ade",
   "metadata": {},
   "outputs": [],
   "source": [
    "from config import settings"
   ]
  },
  {
   "cell_type": "code",
   "execution_count": 2,
   "id": "731d9504",
   "metadata": {},
   "outputs": [],
   "source": [
    "import requests\n",
    "import pandas as pd"
   ]
  },
  {
   "cell_type": "code",
   "execution_count": 13,
   "id": "1d86704d",
   "metadata": {},
   "outputs": [],
   "source": [
    "from models.data import AlphaVantageAPI"
   ]
  },
  {
   "cell_type": "code",
   "execution_count": 14,
   "id": "5f223d19",
   "metadata": {},
   "outputs": [],
   "source": [
    "av = AlphaVantageAPI()"
   ]
  },
  {
   "cell_type": "code",
   "execution_count": 21,
   "id": "4a58c52c",
   "metadata": {},
   "outputs": [
    {
     "name": "stdout",
     "output_type": "stream",
     "text": [
      "<class 'dict'>\n"
     ]
    },
    {
     "data": {
      "text/plain": [
       "{'BABA': 'Alibaba Group Holding Ltd',\n",
       " 'BABAF': 'Alibaba Group Holding Ltd',\n",
       " 'ALBBY': 'Alibaba Health Information Technology Ltd',\n",
       " 'BABA34.SAO': 'Alibaba Group Holding Limited',\n",
       " 'ALBHF': 'Alibaba Health Information Technology Ltd',\n",
       " 'AHLA.FRK': 'Alibaba Group Holdings Ltd ADR',\n",
       " 'AHLA.DEX': 'Alibaba Group Holding Limited',\n",
       " '0HCI.LON': 'Alibaba Group Holding Limited',\n",
       " '2RR.FRK': 'Alibaba Group Holding Limited',\n",
       " 'TWY.FRK': 'Alibaba Health Information Technology Limited'}"
      ]
     },
     "execution_count": 21,
     "metadata": {},
     "output_type": "execute_result"
    }
   ],
   "source": [
    "keywords = 'alibaba'\n",
    "\n",
    "search = av.get_symbol(keywords)\n",
    "\n",
    "print(type(search))\n",
    "\n",
    "search"
   ]
  },
  {
   "cell_type": "code",
   "execution_count": 22,
   "id": "46cd1223",
   "metadata": {},
   "outputs": [
    {
     "name": "stdout",
     "output_type": "stream",
     "text": [
      "df_suzlon type: <class 'pandas.core.frame.DataFrame'>\n",
      "df_suzlon shape: (2292, 5)\n"
     ]
    },
    {
     "data": {
      "text/html": [
       "<div>\n",
       "<style scoped>\n",
       "    .dataframe tbody tr th:only-of-type {\n",
       "        vertical-align: middle;\n",
       "    }\n",
       "\n",
       "    .dataframe tbody tr th {\n",
       "        vertical-align: top;\n",
       "    }\n",
       "\n",
       "    .dataframe thead th {\n",
       "        text-align: right;\n",
       "    }\n",
       "</style>\n",
       "<table border=\"1\" class=\"dataframe\">\n",
       "  <thead>\n",
       "    <tr style=\"text-align: right;\">\n",
       "      <th></th>\n",
       "      <th>open</th>\n",
       "      <th>high</th>\n",
       "      <th>low</th>\n",
       "      <th>close</th>\n",
       "      <th>volume</th>\n",
       "    </tr>\n",
       "    <tr>\n",
       "      <th>date</th>\n",
       "      <th></th>\n",
       "      <th></th>\n",
       "      <th></th>\n",
       "      <th></th>\n",
       "      <th></th>\n",
       "    </tr>\n",
       "  </thead>\n",
       "  <tbody>\n",
       "    <tr>\n",
       "      <th>2023-10-26</th>\n",
       "      <td>81.265</td>\n",
       "      <td>83.0900</td>\n",
       "      <td>81.200</td>\n",
       "      <td>82.51</td>\n",
       "      <td>13010368.0</td>\n",
       "    </tr>\n",
       "    <tr>\n",
       "      <th>2023-10-25</th>\n",
       "      <td>81.300</td>\n",
       "      <td>82.0000</td>\n",
       "      <td>80.780</td>\n",
       "      <td>81.03</td>\n",
       "      <td>11390178.0</td>\n",
       "    </tr>\n",
       "    <tr>\n",
       "      <th>2023-10-24</th>\n",
       "      <td>80.450</td>\n",
       "      <td>83.3200</td>\n",
       "      <td>80.440</td>\n",
       "      <td>82.87</td>\n",
       "      <td>17925847.0</td>\n",
       "    </tr>\n",
       "    <tr>\n",
       "      <th>2023-10-23</th>\n",
       "      <td>79.420</td>\n",
       "      <td>80.9262</td>\n",
       "      <td>79.020</td>\n",
       "      <td>80.51</td>\n",
       "      <td>12715187.0</td>\n",
       "    </tr>\n",
       "    <tr>\n",
       "      <th>2023-10-20</th>\n",
       "      <td>80.230</td>\n",
       "      <td>80.8600</td>\n",
       "      <td>79.783</td>\n",
       "      <td>79.94</td>\n",
       "      <td>14636224.0</td>\n",
       "    </tr>\n",
       "  </tbody>\n",
       "</table>\n",
       "</div>"
      ],
      "text/plain": [
       "              open     high     low  close      volume\n",
       "date                                                  \n",
       "2023-10-26  81.265  83.0900  81.200  82.51  13010368.0\n",
       "2023-10-25  81.300  82.0000  80.780  81.03  11390178.0\n",
       "2023-10-24  80.450  83.3200  80.440  82.87  17925847.0\n",
       "2023-10-23  79.420  80.9262  79.020  80.51  12715187.0\n",
       "2023-10-20  80.230  80.8600  79.783  79.94  14636224.0"
      ]
     },
     "execution_count": 22,
     "metadata": {},
     "output_type": "execute_result"
    }
   ],
   "source": [
    "ticker = 'BABA'\n",
    "df_suzlon = av.get_daily(ticker = ticker)\n",
    "\n",
    "print(\"df_suzlon type:\", type(df_suzlon))\n",
    "print(\"df_suzlon shape:\", df_suzlon.shape)\n",
    "df_suzlon.head()"
   ]
  },
  {
   "cell_type": "code",
   "execution_count": 33,
   "id": "653eb363",
   "metadata": {},
   "outputs": [
    {
     "ename": "TypeError",
     "evalue": "'NoneType' object is not iterable",
     "output_type": "error",
     "traceback": [
      "\u001b[1;31m---------------------------------------------------------------------------\u001b[0m",
      "\u001b[1;31mTypeError\u001b[0m                                 Traceback (most recent call last)",
      "Cell \u001b[1;32mIn[33], line 12\u001b[0m\n\u001b[0;32m     10\u001b[0m bestMatches\u001b[38;5;241m=\u001b[39mresponse_data\u001b[38;5;241m.\u001b[39mget(\u001b[38;5;124m'\u001b[39m\u001b[38;5;124mbestMatches\u001b[39m\u001b[38;5;124m'\u001b[39m)\n\u001b[0;32m     11\u001b[0m search \u001b[38;5;241m=\u001b[39m {}\n\u001b[1;32m---> 12\u001b[0m \u001b[38;5;28;01mfor\u001b[39;00m i \u001b[38;5;129;01min\u001b[39;00m bestMatches:\n\u001b[0;32m     13\u001b[0m     search[i] \u001b[38;5;241m=\u001b[39m (bestMatches[i]\u001b[38;5;241m.\u001b[39mget(\u001b[38;5;124m'\u001b[39m\u001b[38;5;124m1. symbol\u001b[39m\u001b[38;5;124m'\u001b[39m), bestMatches[i]\u001b[38;5;241m.\u001b[39mget(\u001b[38;5;124m'\u001b[39m\u001b[38;5;124m2. name\u001b[39m\u001b[38;5;124m'\u001b[39m))\n",
      "\u001b[1;31mTypeError\u001b[0m: 'NoneType' object is not iterable"
     ]
    }
   ],
   "source": [
    "keywords = 'alibaba'\n",
    "url = (\n",
    "    \"https://www.alphavantage.co/query?\"\n",
    "    \"function=SYMBOL_SEARCH\"\n",
    "    f\"&keywords={keywords}\"\n",
    "    f\"&apikey={settings.api_key}\"\n",
    ")\n",
    "response = requests.get(url=url)\n",
    "response_data = response.json()\n",
    "bestMatches=response_data.get('bestMatches')\n",
    "search = {}\n",
    "for i in bestMatches:\n",
    "    search[i] = (bestMatches[i].get('1. symbol'), bestMatches[i].get('2. name'))"
   ]
  },
  {
   "cell_type": "code",
   "execution_count": 34,
   "id": "1a43e151",
   "metadata": {},
   "outputs": [
    {
     "ename": "KeyError",
     "evalue": "0",
     "output_type": "error",
     "traceback": [
      "\u001b[1;31m---------------------------------------------------------------------------\u001b[0m",
      "\u001b[1;31mKeyError\u001b[0m                                  Traceback (most recent call last)",
      "Cell \u001b[1;32mIn[34], line 1\u001b[0m\n\u001b[1;32m----> 1\u001b[0m ticker \u001b[38;5;241m=\u001b[39m \u001b[43msearch\u001b[49m\u001b[43m[\u001b[49m\u001b[38;5;241;43m0\u001b[39;49m\u001b[43m]\u001b[49m[\u001b[38;5;241m0\u001b[39m]\n\u001b[0;32m      2\u001b[0m df \u001b[38;5;241m=\u001b[39m av\u001b[38;5;241m.\u001b[39mget_daily(ticker \u001b[38;5;241m=\u001b[39m ticker)\n\u001b[0;32m      4\u001b[0m \u001b[38;5;28mprint\u001b[39m(\u001b[38;5;124m\"\u001b[39m\u001b[38;5;124mdf:\u001b[39m\u001b[38;5;124m\"\u001b[39m, \u001b[38;5;28mtype\u001b[39m(df))\n",
      "\u001b[1;31mKeyError\u001b[0m: 0"
     ]
    }
   ],
   "source": [
    "ticker = search[0][0]\n",
    "df = av.get_daily(ticker = ticker)\n",
    "\n",
    "print(\"df:\", type(df))\n",
    "print(\"df:\", df.shape)\n",
    "df_suzlon.head()"
   ]
  },
  {
   "cell_type": "code",
   "execution_count": null,
   "id": "bad36d8b",
   "metadata": {},
   "outputs": [],
   "source": []
  }
 ],
 "metadata": {
  "kernelspec": {
   "display_name": "Python 3 (ipykernel)",
   "language": "python",
   "name": "python3"
  },
  "language_info": {
   "codemirror_mode": {
    "name": "ipython",
    "version": 3
   },
   "file_extension": ".py",
   "mimetype": "text/x-python",
   "name": "python",
   "nbconvert_exporter": "python",
   "pygments_lexer": "ipython3",
   "version": "3.10.9"
  }
 },
 "nbformat": 4,
 "nbformat_minor": 5
}
