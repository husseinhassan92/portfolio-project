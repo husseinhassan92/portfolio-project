{
 "cells": [
  {
   "cell_type": "code",
   "execution_count": 1,
   "id": "19fe2ade",
   "metadata": {},
   "outputs": [],
   "source": [
    "from config import settings"
   ]
  },
  {
   "cell_type": "code",
   "execution_count": 2,
   "id": "731d9504",
   "metadata": {},
   "outputs": [],
   "source": [
    "import requests\n",
    "import pandas as pd"
   ]
  },
  {
   "cell_type": "code",
   "execution_count": 3,
   "id": "1d86704d",
   "metadata": {},
   "outputs": [],
   "source": [
    "from models.data import AlphaVantageAPI"
   ]
  },
  {
   "cell_type": "code",
   "execution_count": 4,
   "id": "5f223d19",
   "metadata": {},
   "outputs": [],
   "source": [
    "av = AlphaVantageAPI()"
   ]
  },
  {
   "cell_type": "code",
   "execution_count": 5,
   "id": "4a58c52c",
   "metadata": {},
   "outputs": [
    {
     "ename": "TypeError",
     "evalue": "object of type 'NoneType' has no len()",
     "output_type": "error",
     "traceback": [
      "\u001b[1;31m---------------------------------------------------------------------------\u001b[0m",
      "\u001b[1;31mTypeError\u001b[0m                                 Traceback (most recent call last)",
      "Cell \u001b[1;32mIn[5], line 3\u001b[0m\n\u001b[0;32m      1\u001b[0m keywords \u001b[38;5;241m=\u001b[39m \u001b[38;5;124m'\u001b[39m\u001b[38;5;124malibaba\u001b[39m\u001b[38;5;124m'\u001b[39m\n\u001b[1;32m----> 3\u001b[0m search \u001b[38;5;241m=\u001b[39m \u001b[43mav\u001b[49m\u001b[38;5;241;43m.\u001b[39;49m\u001b[43mget_symbol\u001b[49m\u001b[43m(\u001b[49m\u001b[43mkeywords\u001b[49m\u001b[43m)\u001b[49m\n\u001b[0;32m      5\u001b[0m \u001b[38;5;28mprint\u001b[39m(\u001b[38;5;28mtype\u001b[39m(search))\n\u001b[0;32m      7\u001b[0m search\n",
      "File \u001b[1;32m~\\Workspace\\portfolio-project\\Stocks_Interact\\models\\data.py:39\u001b[0m, in \u001b[0;36mAlphaVantageAPI.get_symbol\u001b[1;34m(self, keywords)\u001b[0m\n\u001b[0;32m     37\u001b[0m bestMatches\u001b[38;5;241m=\u001b[39mresponse_data\u001b[38;5;241m.\u001b[39mget(\u001b[38;5;124m'\u001b[39m\u001b[38;5;124mbestMatches\u001b[39m\u001b[38;5;124m'\u001b[39m)\n\u001b[0;32m     38\u001b[0m search \u001b[38;5;241m=\u001b[39m {}\n\u001b[1;32m---> 39\u001b[0m \u001b[38;5;28;01mfor\u001b[39;00m i \u001b[38;5;129;01min\u001b[39;00m \u001b[38;5;28mrange\u001b[39m(\u001b[38;5;28;43mlen\u001b[39;49m\u001b[43m(\u001b[49m\u001b[43mbestMatches\u001b[49m\u001b[43m)\u001b[49m):\n\u001b[0;32m     40\u001b[0m     search[\u001b[38;5;28mstr\u001b[39m((bestMatches[i]\u001b[38;5;241m.\u001b[39mget(\u001b[38;5;124m'\u001b[39m\u001b[38;5;124m1. symbol\u001b[39m\u001b[38;5;124m'\u001b[39m), bestMatches[i]\u001b[38;5;241m.\u001b[39mget(\u001b[38;5;124m'\u001b[39m\u001b[38;5;124m2. name\u001b[39m\u001b[38;5;124m'\u001b[39m)))] \u001b[38;5;241m=\u001b[39m bestMatches[i]\u001b[38;5;241m.\u001b[39mget(\u001b[38;5;124m'\u001b[39m\u001b[38;5;124m1. symbol\u001b[39m\u001b[38;5;124m'\u001b[39m)\n\u001b[0;32m     41\u001b[0m \u001b[38;5;28;01mreturn\u001b[39;00m search\n",
      "\u001b[1;31mTypeError\u001b[0m: object of type 'NoneType' has no len()"
     ]
    }
   ],
   "source": [
    "keywords = 'alibaba'\n",
    "\n",
    "search = av.get_symbol(keywords)\n",
    "\n",
    "print(type(search))\n",
    "\n",
    "search"
   ]
  },
  {
   "cell_type": "code",
   "execution_count": 6,
   "id": "46cd1223",
   "metadata": {},
   "outputs": [
    {
     "ename": "Exception",
     "evalue": "Invalid Api call. check the ticker 'BABA' is correct",
     "output_type": "error",
     "traceback": [
      "\u001b[1;31m---------------------------------------------------------------------------\u001b[0m",
      "\u001b[1;31mException\u001b[0m                                 Traceback (most recent call last)",
      "Cell \u001b[1;32mIn[6], line 2\u001b[0m\n\u001b[0;32m      1\u001b[0m ticker \u001b[38;5;241m=\u001b[39m \u001b[38;5;124m'\u001b[39m\u001b[38;5;124mBABA\u001b[39m\u001b[38;5;124m'\u001b[39m\n\u001b[1;32m----> 2\u001b[0m df_suzlon \u001b[38;5;241m=\u001b[39m \u001b[43mav\u001b[49m\u001b[38;5;241;43m.\u001b[39;49m\u001b[43mget_daily\u001b[49m\u001b[43m(\u001b[49m\u001b[43mticker\u001b[49m\u001b[43m \u001b[49m\u001b[38;5;241;43m=\u001b[39;49m\u001b[43m \u001b[49m\u001b[43mticker\u001b[49m\u001b[43m)\u001b[49m\n\u001b[0;32m      4\u001b[0m \u001b[38;5;28mprint\u001b[39m(\u001b[38;5;124m\"\u001b[39m\u001b[38;5;124mdf_suzlon type:\u001b[39m\u001b[38;5;124m\"\u001b[39m, \u001b[38;5;28mtype\u001b[39m(df_suzlon))\n\u001b[0;32m      5\u001b[0m \u001b[38;5;28mprint\u001b[39m(\u001b[38;5;124m\"\u001b[39m\u001b[38;5;124mdf_suzlon shape:\u001b[39m\u001b[38;5;124m\"\u001b[39m, df_suzlon\u001b[38;5;241m.\u001b[39mshape)\n",
      "File \u001b[1;32m~\\Workspace\\portfolio-project\\Stocks_Interact\\models\\data.py:83\u001b[0m, in \u001b[0;36mAlphaVantageAPI.get_daily\u001b[1;34m(self, ticker, output_size)\u001b[0m\n\u001b[0;32m     80\u001b[0m response_data\u001b[38;5;241m=\u001b[39mresponse\u001b[38;5;241m.\u001b[39mjson()\n\u001b[0;32m     82\u001b[0m \u001b[38;5;28;01mif\u001b[39;00m \u001b[38;5;124m\"\u001b[39m\u001b[38;5;124mTime Series (Daily)\u001b[39m\u001b[38;5;124m\"\u001b[39m \u001b[38;5;129;01mnot\u001b[39;00m \u001b[38;5;129;01min\u001b[39;00m response_data\u001b[38;5;241m.\u001b[39mkeys():\n\u001b[1;32m---> 83\u001b[0m     \u001b[38;5;28;01mraise\u001b[39;00m \u001b[38;5;167;01mException\u001b[39;00m(\n\u001b[0;32m     84\u001b[0m         \u001b[38;5;124mf\u001b[39m\u001b[38;5;124m\"\u001b[39m\u001b[38;5;124mInvalid Api call. check the ticker \u001b[39m\u001b[38;5;124m'\u001b[39m\u001b[38;5;132;01m{\u001b[39;00mticker\u001b[38;5;132;01m}\u001b[39;00m\u001b[38;5;124m'\u001b[39m\u001b[38;5;124m is correct\u001b[39m\u001b[38;5;124m\"\u001b[39m\n\u001b[0;32m     85\u001b[0m     )\n\u001b[0;32m     87\u001b[0m \u001b[38;5;66;03m# Read data into DataFrame (8.1.12 & 8.1.13)\u001b[39;00m\n\u001b[0;32m     88\u001b[0m stock_data\u001b[38;5;241m=\u001b[39mresponse_data[\u001b[38;5;124m\"\u001b[39m\u001b[38;5;124mTime Series (Daily)\u001b[39m\u001b[38;5;124m\"\u001b[39m]\n",
      "\u001b[1;31mException\u001b[0m: Invalid Api call. check the ticker 'BABA' is correct"
     ]
    }
   ],
   "source": [
    "ticker = 'BABA'\n",
    "df_suzlon = av.get_daily(ticker = ticker)\n",
    "\n",
    "print(\"df_suzlon type:\", type(df_suzlon))\n",
    "print(\"df_suzlon shape:\", df_suzlon.shape)\n",
    "df_suzlon.head()"
   ]
  },
  {
   "cell_type": "code",
   "execution_count": 7,
   "id": "653eb363",
   "metadata": {},
   "outputs": [
    {
     "ename": "TypeError",
     "evalue": "'NoneType' object is not iterable",
     "output_type": "error",
     "traceback": [
      "\u001b[1;31m---------------------------------------------------------------------------\u001b[0m",
      "\u001b[1;31mTypeError\u001b[0m                                 Traceback (most recent call last)",
      "Cell \u001b[1;32mIn[7], line 12\u001b[0m\n\u001b[0;32m     10\u001b[0m bestMatches\u001b[38;5;241m=\u001b[39mresponse_data\u001b[38;5;241m.\u001b[39mget(\u001b[38;5;124m'\u001b[39m\u001b[38;5;124mbestMatches\u001b[39m\u001b[38;5;124m'\u001b[39m)\n\u001b[0;32m     11\u001b[0m search \u001b[38;5;241m=\u001b[39m {}\n\u001b[1;32m---> 12\u001b[0m \u001b[38;5;28;01mfor\u001b[39;00m i \u001b[38;5;129;01min\u001b[39;00m bestMatches:\n\u001b[0;32m     13\u001b[0m     search[i] \u001b[38;5;241m=\u001b[39m (bestMatches[i]\u001b[38;5;241m.\u001b[39mget(\u001b[38;5;124m'\u001b[39m\u001b[38;5;124m1. symbol\u001b[39m\u001b[38;5;124m'\u001b[39m), bestMatches[i]\u001b[38;5;241m.\u001b[39mget(\u001b[38;5;124m'\u001b[39m\u001b[38;5;124m2. name\u001b[39m\u001b[38;5;124m'\u001b[39m))\n",
      "\u001b[1;31mTypeError\u001b[0m: 'NoneType' object is not iterable"
     ]
    }
   ],
   "source": [
    "keywords = 'alibaba'\n",
    "url = (\n",
    "    \"https://www.alphavantage.co/query?\"\n",
    "    \"function=SYMBOL_SEARCH\"\n",
    "    f\"&keywords={keywords}\"\n",
    "    f\"&apikey={settings.api_key}\"\n",
    ")\n",
    "response = requests.get(url=url)\n",
    "response_data = response.json()\n",
    "bestMatches=response_data.get('bestMatches')\n",
    "search = {}\n",
    "for i in bestMatches:\n",
    "    search[i] = (bestMatches[i].get('1. symbol'), bestMatches[i].get('2. name'))"
   ]
  },
  {
   "cell_type": "code",
   "execution_count": 8,
   "id": "1a43e151",
   "metadata": {},
   "outputs": [
    {
     "ename": "KeyError",
     "evalue": "0",
     "output_type": "error",
     "traceback": [
      "\u001b[1;31m---------------------------------------------------------------------------\u001b[0m",
      "\u001b[1;31mKeyError\u001b[0m                                  Traceback (most recent call last)",
      "Cell \u001b[1;32mIn[8], line 1\u001b[0m\n\u001b[1;32m----> 1\u001b[0m ticker \u001b[38;5;241m=\u001b[39m \u001b[43msearch\u001b[49m\u001b[43m[\u001b[49m\u001b[38;5;241;43m0\u001b[39;49m\u001b[43m]\u001b[49m[\u001b[38;5;241m0\u001b[39m]\n\u001b[0;32m      2\u001b[0m df \u001b[38;5;241m=\u001b[39m av\u001b[38;5;241m.\u001b[39mget_daily(ticker \u001b[38;5;241m=\u001b[39m ticker)\n\u001b[0;32m      4\u001b[0m \u001b[38;5;28mprint\u001b[39m(\u001b[38;5;124m\"\u001b[39m\u001b[38;5;124mdf:\u001b[39m\u001b[38;5;124m\"\u001b[39m, \u001b[38;5;28mtype\u001b[39m(df))\n",
      "\u001b[1;31mKeyError\u001b[0m: 0"
     ]
    }
   ],
   "source": [
    "ticker = search[0][0]\n",
    "df = av.get_daily(ticker = ticker)\n",
    "\n",
    "print(\"df:\", type(df))\n",
    "print(\"df:\", df.shape)\n",
    "df_suzlon.head()"
   ]
  },
  {
   "cell_type": "code",
   "execution_count": 10,
   "id": "bad36d8b",
   "metadata": {},
   "outputs": [
    {
     "data": {
      "text/plain": [
       "NoneType"
      ]
     },
     "execution_count": 10,
     "metadata": {},
     "output_type": "execute_result"
    }
   ],
   "source": [
    "type(bestMatches)"
   ]
  },
  {
   "cell_type": "code",
   "execution_count": 11,
   "id": "f14b5740",
   "metadata": {},
   "outputs": [
    {
     "data": {
      "text/plain": [
       "{'Information': 'Thank you for using Alpha Vantage! Our standard API rate limit is 25 requests per day. Please subscribe to any of the premium plans at https://www.alphavantage.co/premium/ to instantly remove all daily rate limits.'}"
      ]
     },
     "execution_count": 11,
     "metadata": {},
     "output_type": "execute_result"
    }
   ],
   "source": [
    "keywords = 'alibaba'\n",
    "url = (\n",
    "    \"https://www.alphavantage.co/query?\"\n",
    "    \"function=SYMBOL_SEARCH\"\n",
    "    f\"&keywords={keywords}\"\n",
    "    f\"&apikey={settings.api_key}\"\n",
    ")\n",
    "response = requests.get(url=url)\n",
    "response_data = response.json()\n",
    "response_data"
   ]
  },
  {
   "cell_type": "code",
   "execution_count": null,
   "id": "4f865db8",
   "metadata": {},
   "outputs": [],
   "source": []
  }
 ],
 "metadata": {
  "kernelspec": {
   "display_name": "Python 3 (ipykernel)",
   "language": "python",
   "name": "python3"
  },
  "language_info": {
   "codemirror_mode": {
    "name": "ipython",
    "version": 3
   },
   "file_extension": ".py",
   "mimetype": "text/x-python",
   "name": "python",
   "nbconvert_exporter": "python",
   "pygments_lexer": "ipython3",
   "version": "3.10.9"
  }
 },
 "nbformat": 4,
 "nbformat_minor": 5
}
